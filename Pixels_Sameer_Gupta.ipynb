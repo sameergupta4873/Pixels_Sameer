{
 "cells": [
  {
   "cell_type": "markdown",
   "metadata": {
    "id": "iiomo2JZF4xk"
   },
   "source": [
    "# Assignment\n",
    "\n"
   ]
  },
  {
   "cell_type": "markdown",
   "metadata": {},
   "source": [
    "## A few basic exercises\n",
    "### Variable Assignment\n",
    "* Try a program to display your name using a variable\n",
    "* Try changing that variable in code itself to something else\n",
    "* Try assiging one variable to other and changing one's value\n"
   ]
  },
  {
   "cell_type": "code",
   "execution_count": 1,
   "metadata": {},
   "outputs": [
    {
     "name": "stdout",
     "output_type": "stream",
     "text": [
      "name\n"
     ]
    }
   ],
   "source": [
    "a= \"name\"\n",
    "b= \"surname\"\n",
    "\n",
    "# Write code to print the variable a \n",
    "print(a)\n",
    "############\n",
    "\n",
    "# Write Code to Change variable a into 30\n",
    "a = 30\n",
    "############\n",
    "\n",
    "# Write Code to assign variable a the value of b\n",
    "b =a\n",
    "############\n"
   ]
  },
  {
   "cell_type": "markdown",
   "metadata": {},
   "source": [
    "### Multiple Assignment\n",
    "\n",
    "* Try Reversing the assignements i.e. new a should be 3, b should be 2 and c should be 1"
   ]
  },
  {
   "cell_type": "code",
   "execution_count": 2,
   "metadata": {},
   "outputs": [
    {
     "name": "stdout",
     "output_type": "stream",
     "text": [
      "3 2 1\n"
     ]
    }
   ],
   "source": [
    "a,b,c = 1,2,3\n",
    "\n",
    "## write a single line code to reverse a,b,c using multiple assignment\n",
    "a,b,c = c,b,a\n",
    "######\n",
    "print(a,b,c)"
   ]
  },
  {
   "cell_type": "markdown",
   "metadata": {},
   "source": [
    "### String\n",
    "\n",
    "* Try reversing string in one line as compared to conventional loops\n"
   ]
  },
  {
   "cell_type": "code",
   "execution_count": 7,
   "metadata": {},
   "outputs": [
    {
     "name": "stdout",
     "output_type": "stream",
     "text": [
      "!tset a si siht\n"
     ]
    }
   ],
   "source": [
    "string = \"this is a test!\"\n",
    "\n",
    "## Write Code to reverse string in one line\n",
    "string = string[::-1]\n",
    "##\n",
    "\n",
    "print(string)"
   ]
  },
  {
   "cell_type": "markdown",
   "metadata": {
    "id": "QMpTD6PQzkHZ"
   },
   "source": [
    "# Operators"
   ]
  },
  {
   "cell_type": "markdown",
   "metadata": {
    "id": "jBP8kRW4z2lv"
   },
   "source": [
    "You are provided with a list of Clubs in VJTI:\n",
    "clubs = ['SRA' , 'Aero' , 'Racing' , 'DSC' , 'COC']\n",
    "And a list of clubs you are a member of:\n",
    "membership= ['SRA' , 'DSC']\n",
    "\n",
    "You have to perform the following tasks:\n",
    "\n",
    "1.   Create a boolean list respective to the clubs you are a member of without using the '==' operator:\n",
    "Expected output: [true,false,false,true,false] HINT: use the membership operator\n",
    "\n",
    "2.   Convert the boolean list into a list of binary one or zero without using the operator '=='. Expected output: [1,0,0,1,0]\n",
    "HINT: Check out identity operator"
   ]
  },
  {
   "cell_type": "code",
   "execution_count": 18,
   "metadata": {
    "id": "hWE8HMmFzy8j"
   },
   "outputs": [
    {
     "name": "stdout",
     "output_type": "stream",
     "text": [
      "[True, False, False, True, False]\n",
      "[1, 0, 0, 1, 0]\n"
     ]
    }
   ],
   "source": [
    "clubs = ['SRA' , 'Aero' , 'Racing' , 'DSC' , 'COC'] \n",
    "membership= ['SRA' , 'DSC']\n",
    "# Write your code here\n",
    "ans = []\n",
    "for i in range(len(clubs)):\n",
    "    if(clubs[i] in membership):\n",
    "        ans.append(True)\n",
    "    else:\n",
    "        ans.append(False)\n",
    "print(ans)\n",
    "for i in range(len(ans)):\n",
    "    if(ans[i] == True):\n",
    "        ans[i] = 1\n",
    "    else:\n",
    "        ans[i] = 0\n",
    "    \n",
    "print(ans)"
   ]
  },
  {
   "cell_type": "markdown",
   "metadata": {
    "id": "LTbYqBpx2W8h"
   },
   "source": [
    "You are provided with the following:\n",
    "expression = 4_6_9_3_23_19\n",
    "Using the operators: +,-,*, /, % in places of the _ make an expression that reads the value: 25.0."
   ]
  },
  {
   "cell_type": "code",
   "execution_count": 66,
   "metadata": {
    "id": "mKaJrL6w3oR3"
   },
   "outputs": [
    {
     "name": "stdout",
     "output_type": "stream",
     "text": [
      "46932319\n",
      "25.0\n"
     ]
    }
   ],
   "source": [
    "expression = 4_6_9_3_23_19 \n",
    "print(expression)\n",
    "\n",
    "# write your code here\n",
    "expression = 4*6-9/3+23%19\n",
    "print(expression)"
   ]
  },
  {
   "cell_type": "markdown",
   "metadata": {
    "id": "gaciSf_w3wdN"
   },
   "source": [
    "# Control Statements"
   ]
  },
  {
   "cell_type": "markdown",
   "metadata": {
    "id": "C3wLYw-Y32Ap"
   },
   "source": [
    "Complete the for loop such that whenever there is an prime number it prints the number plus \"I was a prime\" in the same line, otherwise it prints nothing.  \n",
    "\n",
    "\n",
    "Using the looping statement and the control statements  \n",
    "\n"
   ]
  },
  {
   "cell_type": "code",
   "execution_count": 22,
   "metadata": {
    "id": "9O0v4M2C5CAq"
   },
   "outputs": [
    {
     "name": "stdout",
     "output_type": "stream",
     "text": [
      "0 :\n",
      "I was a prime\n",
      "1 :\n",
      "I was a prime\n",
      "2 :\n",
      "I was a prime\n",
      "3 :\n",
      "I was a prime\n",
      "5 :\n",
      "I was a prime\n",
      "7 :\n",
      "I was a prime\n",
      "11 :\n",
      "I was a prime\n",
      "13 :\n",
      "I was a prime\n",
      "17 :\n",
      "I was a prime\n",
      "19 :\n",
      "I was a prime\n",
      "23 :\n",
      "I was a prime\n",
      "29 :\n",
      "I was a prime\n",
      "31 :\n",
      "I was a prime\n",
      "37 :\n",
      "I was a prime\n",
      "41 :\n",
      "I was a prime\n",
      "43 :\n",
      "I was a prime\n",
      "47 :\n",
      "I was a prime\n",
      "53 :\n",
      "I was a prime\n",
      "59 :\n",
      "I was a prime\n",
      "61 :\n",
      "I was a prime\n",
      "67 :\n",
      "I was a prime\n",
      "71 :\n",
      "I was a prime\n",
      "73 :\n",
      "I was a prime\n",
      "79 :\n",
      "I was a prime\n",
      "83 :\n",
      "I was a prime\n",
      "89 :\n",
      "I was a prime\n",
      "97 :\n",
      "I was a prime\n"
     ]
    }
   ],
   "source": [
    "def isPrime(n):\n",
    "    for i in range(2,(int)(n**0.5)+1):\n",
    "        if n % i == 0 :\n",
    "            return False\n",
    "    return True\n",
    "\n",
    "\n",
    "\n",
    "for i in range(100):\n",
    "  # Write Code here\n",
    "    if isPrime(i):\n",
    "        print(f\"{i} :\")\n",
    "  #Don't tamper the next line\n",
    "        print(\"I was a prime\")\n",
    "    "
   ]
  },
  {
   "cell_type": "markdown",
   "metadata": {
    "id": "-_wYEMJPS3pq"
   },
   "source": [
    "# Lists"
   ]
  },
  {
   "cell_type": "markdown",
   "metadata": {
    "id": "-ZdE30HvLh2G"
   },
   "source": [
    "Write a Python program to count the number of strings where the string length is 2 or more and the first and last character are same from a given list of strings. Go to the editor  \n",
    "**Sample Input** :['abc', 'xyz', 'aba', '1221']   \n",
    "**Sample Output** :2  \n",
    "**Explanation** :'aba' and '1221' have length greater than 2 and also has matching first and last character.   "
   ]
  },
  {
   "cell_type": "code",
   "execution_count": 23,
   "metadata": {
    "id": "Xk1x-6zrSpYo"
   },
   "outputs": [
    {
     "name": "stdout",
     "output_type": "stream",
     "text": [
      "aba\n",
      "1221\n"
     ]
    }
   ],
   "source": [
    "list1 = ['abc','xyz','aba','1221']\n",
    "# Write your code here\n",
    "for i in range(len(list1)):\n",
    "    if len(list1[i]) > 2 :\n",
    "        if(list1[i][0] == list1[i][-1]):\n",
    "            print(list1[i])"
   ]
  },
  {
   "cell_type": "markdown",
   "metadata": {
    "id": "PFEX3PKtSwj3"
   },
   "source": [
    "Write a Python program to print the numbers of a specified list after removing even numbers from it.  \n",
    "**Hint** : Use List Comprehension"
   ]
  },
  {
   "cell_type": "code",
   "execution_count": 29,
   "metadata": {
    "id": "csR4tZzLVXTq"
   },
   "outputs": [
    {
     "name": "stdout",
     "output_type": "stream",
     "text": [
      "1 2 3 4 5\n",
      "[1, 3, 5]\n"
     ]
    }
   ],
   "source": [
    "# Write your code here\n",
    "list1 = list(map(int,input().split()))\n",
    "for element in list1:\n",
    "\tif(element % 2 == 0):\n",
    "\t\tlist1.remove(element)\n",
    "print(list1)\n"
   ]
  },
  {
   "cell_type": "markdown",
   "metadata": {
    "id": "P3dm0udUVcmB"
   },
   "source": [
    "# Dictionaries"
   ]
  },
  {
   "cell_type": "markdown",
   "metadata": {
    "id": "7pZi-gqWVhpy"
   },
   "source": [
    "Delete set of keys (keysToRemove) from a dictionary and display the resultant dictionary  \n",
    "**Given** : The \"sampleDict\" dictionary has already been defined in the below code ."
   ]
  },
  {
   "cell_type": "markdown",
   "metadata": {
    "id": "Z8gkalnDXoo1"
   },
   "source": [
    "**Expected Output**:\n",
    "{'city': 'New york', 'age': 25}"
   ]
  },
  {
   "cell_type": "code",
   "execution_count": 34,
   "metadata": {
    "id": "Z8zSdTdBZpMr"
   },
   "outputs": [
    {
     "name": "stdout",
     "output_type": "stream",
     "text": [
      "{'age': 25, 'city': 'New york'}\n"
     ]
    }
   ],
   "source": [
    "# Given Dictionary\n",
    "sampleDict = {\n",
    "  \"name\": \"Kelly\",\n",
    "  \"age\":25,\n",
    "  \"salary\": 8000,\n",
    "  \"city\": \"New york\"\n",
    "  \n",
    "}\n",
    "\n",
    "# remove the keys present in the list below from the dictionary \n",
    "keysToRemove = [\"name\", \"salary\"]\n",
    "\n",
    "# Write your code here\n",
    "for element in keysToRemove:\n",
    "    del sampleDict[element]\n",
    "print(sampleDict)"
   ]
  },
  {
   "cell_type": "markdown",
   "metadata": {
    "id": "rV5O1kFoXvY4"
   },
   "source": [
    "Write a program in Python to read the admission number, name of student and his/her stream of 10 students and create a dictionary from this information. print the dictionary "
   ]
  },
  {
   "cell_type": "code",
   "execution_count": 39,
   "metadata": {
    "id": "y9-SY12sY0_7"
   },
   "outputs": [
    {
     "name": "stdout",
     "output_type": "stream",
     "text": [
      "Enter Student's Name ? : Sameer\n",
      "Enter Student's Admission No. ? : 123\n",
      "Enter Student's Roll No. ? : 14\n",
      "Enter Student's Name ? : siddhesh\n",
      "Enter Student's Admission No. ? : 12\n",
      "Enter Student's Roll No. ? : 21\n",
      "Enter Student's Name ? : adjfbda\n",
      "Enter Student's Admission No. ? : 8936\n",
      "Enter Student's Roll No. ? : 73246\n",
      "Enter Student's Name ? : dwhbfi\n",
      "Enter Student's Admission No. ? : 9326\n",
      "Enter Student's Roll No. ? : 293846\n",
      "Enter Student's Name ? : fwg\n",
      "Enter Student's Admission No. ? : 932\n",
      "Enter Student's Roll No. ? : 3886\n",
      "Enter Student's Name ? : feuwh\n",
      "Enter Student's Admission No. ? : 463\n",
      "Enter Student's Roll No. ? : 31487\n",
      "Enter Student's Name ? : fh\n",
      "Enter Student's Admission No. ? : 64319\n",
      "Enter Student's Roll No. ? : 8347\n",
      "Enter Student's Name ? : fekwug\n",
      "Enter Student's Admission No. ? : 6341\n",
      "Enter Student's Roll No. ? : 814\n",
      "Enter Student's Name ? : fbeu\n",
      "Enter Student's Admission No. ? : 4769\n",
      "Enter Student's Roll No. ? : 73\n",
      "Enter Student's Name ? : fkg\n",
      "Enter Student's Admission No. ? : 43\n",
      "Enter Student's Roll No. ? : 34\n",
      "{'Sameer': {'Admission No.': '123', 'Roll No.': '14'}, 'siddhesh': {'Admission No.': '12', 'Roll No.': '21'}, 'adjfbda': {'Admission No.': '8936', 'Roll No.': '73246'}, 'dwhbfi': {'Admission No.': '9326', 'Roll No.': '293846'}, 'fwg': {'Admission No.': '932', 'Roll No.': '3886'}, 'feuwh': {'Admission No.': '463', 'Roll No.': '31487'}, 'fh': {'Admission No.': '64319', 'Roll No.': '8347'}, 'fekwug': {'Admission No.': '6341', 'Roll No.': '814'}, 'fbeu': {'Admission No.': '4769', 'Roll No.': '73'}, 'fkg': {'Admission No.': '43', 'Roll No.': '34'}}\n"
     ]
    }
   ],
   "source": [
    "# Write your code here \n",
    "sampleDict = dict()\n",
    "for i in range(10):\n",
    "    name = (input(\"Enter Student's Name ? : \"))\n",
    "    adm = (input(\"Enter Student's Admission No. ? : \"))\n",
    "    roll = (input(\"Enter Student's Roll No. ? : \"))\n",
    "    newDict = dict()\n",
    "    \n",
    "    newDict[\"Admission No.\"] = adm \n",
    "    newDict[\"Roll No.\"] = roll\n",
    "    \n",
    "    sampleDict[name] = newDict\n",
    "print(sampleDict)"
   ]
  },
  {
   "cell_type": "markdown",
   "metadata": {
    "id": "jBT1hgBV4J_k"
   },
   "source": [
    "# Sets and Tuples"
   ]
  },
  {
   "cell_type": "markdown",
   "metadata": {
    "id": "aO3KNdm74kIC"
   },
   "source": [
    "Check if two sets have any elements in common. If yes, display the common elements.\n",
    "\n",
    "set1 = {10, 20, 30, 40, 50}\n",
    "\n",
    "set2 = {60, 70, 80, 90, 10}\n",
    "\n",
    "\n",
    "**Expected output:**\n",
    "\n",
    "Two sets have items in common\n",
    "\n",
    "{10}"
   ]
  },
  {
   "cell_type": "code",
   "execution_count": 40,
   "metadata": {
    "id": "TiXKBh1p4UUe"
   },
   "outputs": [
    {
     "data": {
      "text/plain": [
       "{10}"
      ]
     },
     "execution_count": 40,
     "metadata": {},
     "output_type": "execute_result"
    }
   ],
   "source": [
    "set1 = {10, 20, 30, 40, 50}\n",
    "set2 = {60, 70, 80, 90, 10}\n",
    "\n",
    "# Write your code here to get common elements among them\n",
    "set1.intersection(set2)"
   ]
  },
  {
   "cell_type": "markdown",
   "metadata": {
    "id": "CEKFqNN05nNS"
   },
   "source": [
    "Write a Python program to replace last value of tuples in a list.\n",
    "\n",
    "**Sample list:** [(10, 20, 40), (40, 50, 60), (70, 80, 90)]\n",
    "\n",
    "**Expected Output:** [(10, 20, 100), (40, 50, 100), (70, 80, 100)]"
   ]
  },
  {
   "cell_type": "code",
   "execution_count": 45,
   "metadata": {
    "id": "e9v1bRDU4tyC"
   },
   "outputs": [
    {
     "name": "stdout",
     "output_type": "stream",
     "text": [
      "[(10, 20, 100), (40, 50, 100), (70, 80, 100)]\n"
     ]
    }
   ],
   "source": [
    "list1 = [(10, 20, 40), (40, 50, 60), (70, 80, 90)]\n",
    "\n",
    "# Write your code here to replace last value of tuples in the list\n",
    "for i in range(len(list1)):\n",
    "    list1[i] = list1[i][:2] + (100 ,)\n",
    "print(list1)"
   ]
  },
  {
   "cell_type": "markdown",
   "metadata": {
    "id": "DwM6tKlaIlhO"
   },
   "source": [
    "## Functions"
   ]
  },
  {
   "cell_type": "markdown",
   "metadata": {
    "id": "zrFBbZ48Ivqy"
   },
   "source": [
    "1) Write a function called ```showNumbers``` that takes a parameter called limit. It should print all the numbers between 0 and limit with a label to identify the even and odd numbers. For example, if the limit is 3, it should print:\n",
    "* 0 EVEN\n",
    "* 1 ODD\n",
    "* 2 EVEN\n",
    "* 3 ODD\n"
   ]
  },
  {
   "cell_type": "code",
   "execution_count": 46,
   "metadata": {
    "id": "eo2hNDAkIue-"
   },
   "outputs": [
    {
     "name": "stdout",
     "output_type": "stream",
     "text": [
      "4\n",
      "0 EVEN\n",
      "1 ODD\n",
      "2 EVEN\n",
      "3 ODD\n",
      "4 EVEN\n"
     ]
    }
   ],
   "source": [
    "# Write Your code here\n",
    "n = int(input())\n",
    "for i in range(n+1):\n",
    "    if i%2==0 :\n",
    "        print(f\"{i} EVEN\")\n",
    "    else :\n",
    "        print(f\"{i} ODD\")"
   ]
  },
  {
   "cell_type": "markdown",
   "metadata": {
    "id": "0olNjioRJezU"
   },
   "source": [
    "2) Write a function that takes limit(integer) as a paramter and prints all the prime numbers between 0 and limit.\n",
    "\n",
    "\n"
   ]
  },
  {
   "cell_type": "code",
   "execution_count": 55,
   "metadata": {
    "id": "707mKltkJoyY"
   },
   "outputs": [
    {
     "name": "stdout",
     "output_type": "stream",
     "text": [
      "10\n",
      "0 is Prime\n",
      "1 is Prime\n",
      "2 is Prime\n",
      "3 is Prime\n",
      "5 is Prime\n",
      "7 is Prime\n"
     ]
    }
   ],
   "source": [
    "# Write your code here\n",
    "def isPrime(n):\n",
    "    for i in range(2,int(n**0.5)+1):\n",
    "        if n%i == 0:\n",
    "            return False\n",
    "    return True\n",
    "\n",
    "\n",
    "\n",
    "n = int(input())\n",
    "for i in range(n):\n",
    "    if isPrime(i):\n",
    "        print(f\"{i} is Prime\")\n",
    "    \n",
    "    "
   ]
  },
  {
   "cell_type": "markdown",
   "metadata": {
    "id": "Drl7IbTFIBhf"
   },
   "source": [
    "# Classes and Objects"
   ]
  },
  {
   "cell_type": "markdown",
   "metadata": {
    "id": "njc5QPZeJlN7"
   },
   "source": [
    "Write a Python Program to create a class named **Student**. \n",
    "- It should be initialised with attributes like **name, age, rollno, favourite subject**(a single subject).\n",
    "\n",
    "- Write a class method **getDetails()** which prints the name, age and rollno of the object in the below format.\n",
    " \n",
    "  * **Expected Output Format**\n",
    "> Name   : <em>name</em></br>\n",
    "> Age    : <em>age</em></br>\n",
    "> RollNo : <em>rollno</em></br>\n",
    "\n",
    "  * **Expected Example Output**\n",
    "> Name : Gautam</br>\n",
    "Age : 20</br>\n",
    "RollNo : 68\n",
    "\n",
    "- Now, there is a list **fav_list** such that it contains a list of subjects which are favourite to the Principal.\n",
    "\n",
    "  ``` python\n",
    "    fav_list = [\"EG\",\"Mechanics\",\"Chemistry\"]\n",
    "  ``` \n",
    "- You have to write a class Method **isFav()** which returns a boolean value i.e either <em>**true**</em> if any of the favourite subject of the principal matches with that of the student. Think of some suitable logic here.\n",
    "\n",
    "- Create 2 objects of class **Student** with attributes of your choice taken via user input.\n",
    "\n",
    "- Call Both the methods for both the objects. **Note** - Print the result of the **isFav()** method.\n",
    "\n",
    "- **Bonus Task** - Write the body of **isFav()** method in just one line."
   ]
  },
  {
   "cell_type": "code",
   "execution_count": 1,
   "metadata": {
    "id": "hWPxBx0fIOWp"
   },
   "outputs": [],
   "source": [
    "# Write your code here \n"
   ]
  },
  {
   "cell_type": "code",
   "execution_count": 64,
   "metadata": {},
   "outputs": [
    {
     "name": "stdout",
     "output_type": "stream",
     "text": [
      "Enter Your Name : Sameer\n",
      "Enter Your Age : 18\n",
      "Enter Your Roll No. : 24\n",
      "Enter Your Favourite Subject : Mechanics\n",
      "Name : Sameer\n",
      "Age : 18\n",
      "Roll No. : 24\n",
      "True\n"
     ]
    }
   ],
   "source": [
    "fav_list = [\"EG\",\"Mechanics\",\"Chemistry\"]\n",
    "\n",
    "class Student:\n",
    "    def __init__(self,name,age,roll,fav_subject):\n",
    "        self.name = name\n",
    "        self.age = age\n",
    "        self.roll = roll\n",
    "        self.fav_subject = fav_subject\n",
    "    def getDetails(self):\n",
    "        print(f\"Name : {self.name}\")\n",
    "        print(f\"Age : {self.age}\")\n",
    "        print(f\"Roll No. : {self.roll}\")\n",
    "    def isFav(self,fav_list):\n",
    "        print(\"True\" if self.fav_subject in fav_list  else \"False\")\n",
    "name = input(\"Enter Your Name : \")\n",
    "age = int(input(\"Enter Your Age : \"))\n",
    "roll = int(input(\"Enter Your Roll No. : \"))\n",
    "fav_subject = input(\"Enter Your Favourite Subject : \")\n",
    "s = Student(name,age,roll,fav_subject)\n",
    "s.getDetails()\n",
    "s.isFav(fav_list)\n",
    "    \n",
    "        "
   ]
  },
  {
   "cell_type": "code",
   "execution_count": null,
   "metadata": {},
   "outputs": [],
   "source": []
  }
 ],
 "metadata": {
  "colab": {
   "collapsed_sections": [],
   "name": "Python_Pixels_seminar",
   "provenance": [],
   "toc_visible": true
  },
  "kernelspec": {
   "display_name": "Python 3 (ipykernel)",
   "language": "python",
   "name": "python3"
  },
  "language_info": {
   "codemirror_mode": {
    "name": "ipython",
    "version": 3
   },
   "file_extension": ".py",
   "mimetype": "text/x-python",
   "name": "python",
   "nbconvert_exporter": "python",
   "pygments_lexer": "ipython3",
   "version": "3.9.7"
  }
 },
 "nbformat": 4,
 "nbformat_minor": 1
}
